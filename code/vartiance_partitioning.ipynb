{
 "cells": [
  {
   "cell_type": "markdown",
   "metadata": {},
   "source": [
    "## Variance partitioning analysis\n",
    "\n",
    "Dec-16-2021 by Guo Jiahui\n",
    "\n",
    "This script contains functions and examples to run the variance partitioning analysis.\n",
    "\n",
    "This script runs an example analysis for the results shown in Figure 5D & 5E."
   ]
  },
  {
   "cell_type": "code",
   "execution_count": 1,
   "metadata": {},
   "outputs": [],
   "source": [
    "import numpy as np\n",
    "from scipy.spatial.distance import squareform\n",
    "import read_data as rd"
   ]
  },
  {
   "cell_type": "code",
   "execution_count": 2,
   "metadata": {},
   "outputs": [],
   "source": [
    "%load_ext rpy2.ipython"
   ]
  },
  {
   "cell_type": "code",
   "execution_count": 3,
   "metadata": {},
   "outputs": [],
   "source": [
    "def variance_partitioning_behavioral(rdm_face_run, rdm_obj_run, behav_rdm_run):\n",
    "    %Rpush rdm_face_run rdm_obj_run behav_rdm_run\n",
    "    %R library(vegan)\n",
    "\n",
    "    %R rda.all <- rda (behav_rdm_run ~ rdm_face_run + rdm_obj_run)\n",
    "    %R rda.face <- rda (behav_rdm_run ~ rdm_face_run)\n",
    "    %R rda.obj <- rda (behav_rdm_run ~ rdm_obj_run)\n",
    "    %R abc <- RsquareAdj (rda.all)$adj.r.squared\n",
    "    %R ab <- RsquareAdj (rda.face)$adj.r.squared\n",
    "    %R bc <- RsquareAdj (rda.obj)$adj.r.squared\n",
    "    %R b = ab + bc - abc\n",
    "    %R a = ab - b\n",
    "    %R c = bc - b\n",
    "    %R -o a,b,c,abc\n",
    "\n",
    "    aa1 = np.array(a)[0]\n",
    "    bb1 = np.array(b)[0]\n",
    "    cc1 = np.array(c)[0]\n",
    "    abc1 = np.array(abc)[0]\n",
    "    return aa1, bb1, cc1, abc1"
   ]
  },
  {
   "cell_type": "code",
   "execution_count": 4,
   "metadata": {},
   "outputs": [],
   "source": [
    "def variance_partitioning_neural(rdm_face_run, rdm_obj_run, behav_rdm_run, neural_rdm_run):\n",
    "    %Rpush rdm_face_run rdm_obj_run behav_rdm_run neural_rdm_run\n",
    "    %R library(vegan)\n",
    "\n",
    "    %R rda.all <- rda (neural_rdm_run ~ rdm_face_run + rdm_obj_run + behav_rdm_run)\n",
    "    %R rda.face <- rda (neural_rdm_run ~ rdm_face_run)\n",
    "    %R rda.obj <- rda (neural_rdm_run ~ rdm_obj_run)\n",
    "    %R rda.behav <- rda (neural_rdm_run ~ behav_rdm_run)\n",
    "    %R rda.face_obj <- rda (neural_rdm_run ~ rdm_face_run + rdm_obj_run)\n",
    "    %R rda.obj_behav <- rda (neural_rdm_run ~ rdm_obj_run + behav_rdm_run)\n",
    "    %R rda.behav_face <- rda (neural_rdm_run ~ behav_rdm_run + rdm_face_run)\n",
    "    %R abcdefg <- RsquareAdj (rda.all)$adj.r.squared\n",
    "    %R adfg <- RsquareAdj (rda.face)$adj.r.squared\n",
    "    %R bdeg <- RsquareAdj (rda.obj)$adj.r.squared\n",
    "    %R cefg <- RsquareAdj (rda.behav)$adj.r.squared\n",
    "    %R abdefg <- RsquareAdj (rda.face_obj)$adj.r.squared\n",
    "    %R bcdefg <- RsquareAdj (rda.obj_behav)$adj.r.squared\n",
    "    %R acdefg <- RsquareAdj (rda.behav_face)$adj.r.squared\n",
    "    %R a = abcdefg - bcdefg\n",
    "    %R b = abcdefg - acdefg\n",
    "    %R c = abcdefg - abdefg\n",
    "    %R d = abcdefg - cefg - a - b\n",
    "    %R e = abcdefg - adfg - b - c\n",
    "    %R f = abcdefg - bdeg - a - c\n",
    "    %R g = adfg - a - d - f\n",
    "    %R -o a,b,c,d,e,f,g,abcdefg\n",
    "\n",
    "    a1 = np.array(a)[0]\n",
    "    b1 = np.array(b)[0]\n",
    "    c1 = np.array(c)[0]\n",
    "    d1 = np.array(d)[0]\n",
    "    e1 = np.array(e)[0]\n",
    "    f1 = np.array(f)[0]\n",
    "    g1 = np.array(g)[0]\n",
    "    abcdefg1 = np.array(abcdefg)[0]\n",
    "    return a1, b1, c1, d1, e1, f1, g1, abcdefg1"
   ]
  },
  {
   "cell_type": "code",
   "execution_count": 5,
   "metadata": {},
   "outputs": [],
   "source": [
    "def prepare_dcnn_rdms_run(face_arcface='fc1', face_alexnet='fc2', face_vgg16='fc2', object_alexnet='fc2', object_vgg16='fc2', run=0):\n",
    "    rdm_face_arcface = rd.get_dcnn_rdm(f'{data_dir}/DCNN_RDMs', 'Face_ArcFace', face_arcface)\n",
    "    rdm_face_alexnet = rd.get_dcnn_rdm(f'{data_dir}/DCNN_RDMs', 'Face_AlexNet', face_alexnet)\n",
    "    rdm_face_vgg16 = rd.get_dcnn_rdm(f'{data_dir}/DCNN_RDMs', 'Face_VGG16', face_vgg16)\n",
    "    rdm_object_alexnet = rd.get_dcnn_rdm(f'{data_dir}/DCNN_RDMs', 'Object_AlexNet', object_alexnet)\n",
    "    rdm_object_vgg16 = rd.get_dcnn_rdm(f'{data_dir}/DCNN_RDMs', 'Object_VGG16', object_vgg16)\n",
    "\n",
    "    rdm_face = np.mean([rdm_face_arcface, rdm_face_alexnet, rdm_face_vgg16], axis=0)\n",
    "    rdm_obj = np.mean([rdm_object_alexnet, rdm_object_vgg16], axis=0)\n",
    "\n",
    "    rdm_obj_run = rd.get_single_run_rdm(rdm_obj, run=run)\n",
    "    rdm_face_run = rd.get_single_run_rdm(rdm_face, run=run)\n",
    "    \n",
    "    return rdm_face_run, rdm_obj_run"
   ]
  },
  {
   "cell_type": "code",
   "execution_count": 6,
   "metadata": {},
   "outputs": [],
   "source": [
    "## Below is example code to run the variance paritioning analysis to explain the variance \n",
    "## of an example neural ROI representational geometry, using the mean RDMs of the final layers of face-, object-DCNN, as well as the behavioral RDM.\n",
    "## Analysis is carried out run-wise, and results were avaraged across runs.\n",
    "## This analysis is an example of the analyses done for Figure 5E, lower panel. "
   ]
  },
  {
   "cell_type": "code",
   "execution_count": 7,
   "metadata": {},
   "outputs": [],
   "source": [
    "data_dir = '../data'\n",
    "\n",
    "## roi: 'raFFA', 'laFFA'\n",
    "roi = 'raFFA'"
   ]
  },
  {
   "cell_type": "code",
   "execution_count": 8,
   "metadata": {},
   "outputs": [
    {
     "name": "stderr",
     "output_type": "stream",
     "text": [
      "R[write to console]: Loading required package: permute\n",
      "\n",
      "R[write to console]: Loading required package: lattice\n",
      "\n",
      "R[write to console]: This is vegan 2.5-7\n",
      "\n"
     ]
    }
   ],
   "source": [
    "aas = []\n",
    "bbs = []\n",
    "ccs = []\n",
    "dds = []\n",
    "ees = []\n",
    "ffs = []\n",
    "ggs = []\n",
    "abcdefgs = []\n",
    "for run in range(12):\n",
    "    neural_rdm_run = rd.get_neural_rdm(f'{data_dir}/neural_RDMs', roi, run=run, mean=True)\n",
    "    behav_rdm_run = rd.get_behavioral_rdm(f'{data_dir}/behavioral_RDMs', run=run, mean=True)\n",
    "    rdm_face_run, rdm_obj_run = prepare_dcnn_rdms_run(face_arcface='fc1', face_alexnet='fc2', face_vgg16='fc2', object_alexnet='fc2', object_vgg16='fc2', run=run)\n",
    "    a1, b1, c1, d1, e1, f1, g1, abcdefg1 = variance_partitioning_neural(rdm_face_run, rdm_obj_run, behav_rdm_run, neural_rdm_run)\n",
    "    aas.append(a1)\n",
    "    bbs.append(b1)\n",
    "    ccs.append(c1)\n",
    "    dds.append(d1)\n",
    "    ees.append(e1)\n",
    "    ffs.append(f1)\n",
    "    ggs.append(g1)\n",
    "    abcdefgs.append(abcdefg1)\n",
    "\n",
    "m_aas = np.mean(aas)\n",
    "m_bbs = np.mean(bbs)\n",
    "m_ccs = np.mean(ccs)\n",
    "m_dds = np.mean(dds)\n",
    "m_ees = np.mean(ees)\n",
    "m_ffs = np.mean(ffs)\n",
    "m_ggs = np.mean(ggs)\n",
    "m_abcdefgs = np.mean(abcdefgs)"
   ]
  },
  {
   "cell_type": "code",
   "execution_count": 9,
   "metadata": {},
   "outputs": [],
   "source": [
    "total_squared = '{:.2f}'.format(m_abcdefgs*100)\n",
    "ap = '{:.1f}'.format((m_aas/m_abcdefgs)*100)\n",
    "bp = '{:.1f}'.format((m_bbs/m_abcdefgs)*100)\n",
    "cp = '{:.1f}'.format((m_ccs/m_abcdefgs)*100)\n",
    "abp = '{:.1f}'.format((m_dds/m_abcdefgs)*100)\n",
    "acp = '{:.1f}'.format((m_ffs/m_abcdefgs)*100)\n",
    "bcp = '{:.1f}'.format((m_ees/m_abcdefgs)*100)\n",
    "abcp = '{:.1f}'.format((m_ggs/m_abcdefgs)*100)"
   ]
  },
  {
   "cell_type": "code",
   "execution_count": 10,
   "metadata": {},
   "outputs": [
    {
     "name": "stdout",
     "output_type": "stream",
     "text": [
      "--- Variance Partitioning: Neural ROI raFFA, DCNN final layers ---\n",
      "Total r-squared: 0.36%\n",
      "a: 21.2%\n",
      "b: 20.9%\n",
      "c: 50.8%\n",
      "ab: -0.4%\n",
      "ac: 0.0%\n",
      "bc: 6.7%\n",
      "abc: 0.9%\n"
     ]
    }
   ],
   "source": [
    "print(f'--- Variance Partitioning: Neural ROI {roi}, DCNN final layers ---')\n",
    "print(f'Total r-squared: {total_squared}%')\n",
    "print(f'a: {ap}%')\n",
    "print(f'b: {bp}%')\n",
    "print(f'c: {cp}%')\n",
    "print(f'ab: {abp}%')\n",
    "print(f'ac: {acp}%')\n",
    "print(f'bc: {bcp}%')\n",
    "print(f'abc: {abcp}%')"
   ]
  },
  {
   "cell_type": "code",
   "execution_count": 11,
   "metadata": {},
   "outputs": [],
   "source": [
    "## Below is a peiece example code to run the variance paritioning analysis to explain the variance of the behavioral representational geometry,\n",
    "## using the mean RDMs of the final layers of face-, object-DCNN.\n",
    "## Analysis is carried out run-wise, and results were avaraged across runs.\n",
    "## This analysis is outputs results for plotting Figure 5D, lower panel. "
   ]
  },
  {
   "cell_type": "code",
   "execution_count": 12,
   "metadata": {},
   "outputs": [],
   "source": [
    "aas = []\n",
    "bbs = []\n",
    "ccs = []\n",
    "abcs = []\n",
    "for run in range(12):\n",
    "    neural_rdm_run = rd.get_neural_rdm(f'{data_dir}/neural_RDMs', roi, run=run, mean=True)\n",
    "    behav_rdm_run = rd.get_behavioral_rdm(f'{data_dir}/behavioral_RDMs', run=run, mean=True)\n",
    "    rdm_face_run, rdm_obj_run = prepare_dcnn_rdms_run(face_arcface='fc1', face_alexnet='fc2', face_vgg16='fc2', object_alexnet='fc2', object_vgg16='fc2', run=run)\n",
    "    a1, b1, c1, abc1 = variance_partitioning_behavioral(rdm_face_run, rdm_obj_run, behav_rdm_run)\n",
    "    aas.append(a1)\n",
    "    bbs.append(b1)\n",
    "    ccs.append(c1)\n",
    "    abcs.append(abc1)\n",
    "\n",
    "m_aas = np.mean(aas)\n",
    "m_bbs = np.mean(bbs)\n",
    "m_ccs = np.mean(ccs)\n",
    "m_abcs = np.mean(abcs)"
   ]
  },
  {
   "cell_type": "code",
   "execution_count": 13,
   "metadata": {},
   "outputs": [],
   "source": [
    "total_squared = '{:.2f}'.format(m_abcs*100)\n",
    "ap = '{:.1f}'.format((m_aas/m_abcs)*100)\n",
    "bp = '{:.1f}'.format((m_ccs/m_abcs)*100)\n",
    "abp = '{:.1f}'.format((m_bbs/m_abcs)*100)"
   ]
  },
  {
   "cell_type": "code",
   "execution_count": 14,
   "metadata": {},
   "outputs": [
    {
     "name": "stdout",
     "output_type": "stream",
     "text": [
      "--- Variance Partitioning: Behavioral RDM, DCNN final layers ---\n",
      "Total r-squared: 5.37%\n",
      "a: 23.6%\n",
      "b: 70.9%\n",
      "ab: 5.5%\n"
     ]
    }
   ],
   "source": [
    "print(f'--- Variance Partitioning: Behavioral RDM, DCNN final layers ---')\n",
    "print(f'Total r-squared: {total_squared}%')\n",
    "print(f'a: {ap}%')\n",
    "print(f'b: {bp}%')\n",
    "print(f'ab: {abp}%')"
   ]
  },
  {
   "cell_type": "code",
   "execution_count": null,
   "metadata": {},
   "outputs": [],
   "source": []
  }
 ],
 "metadata": {
  "interpreter": {
   "hash": "aee8b7b246df8f9039afb4144a1f6fd8d2ca17a180786b69acc140d282b71a49"
  },
  "kernelspec": {
   "display_name": "Python 3",
   "language": "python",
   "name": "python3"
  },
  "language_info": {
   "codemirror_mode": {
    "name": "ipython",
    "version": 3
   },
   "file_extension": ".py",
   "mimetype": "text/x-python",
   "name": "python",
   "nbconvert_exporter": "python",
   "pygments_lexer": "ipython3",
   "version": "3.9.2"
  }
 },
 "nbformat": 4,
 "nbformat_minor": 2
}
